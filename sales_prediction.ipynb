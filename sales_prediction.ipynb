{
  "nbformat": 4,
  "nbformat_minor": 0,
  "metadata": {
    "colab": {
      "provenance": []
    },
    "kernelspec": {
      "name": "python3",
      "display_name": "Python 3"
    },
    "language_info": {
      "name": "python"
    }
  },
  "cells": [
    {
      "cell_type": "code",
      "execution_count": 42,
      "metadata": {
        "id": "1UBzW2SQsqpR"
      },
      "outputs": [],
      "source": [
        "import pandas as pd\n",
        "import matplotlib.pyplot as plt\n",
        "import seaborn as sns\n",
        "from sklearn.linear_model import LinearRegression\n",
        "from sklearn.preprocessing import StandardScaler\n",
        "from sklearn.metrics import mean_squared_error, r2_score"
      ]
    },
    {
      "cell_type": "markdown",
      "source": [
        "##Load dataset"
      ],
      "metadata": {
        "id": "krXNFGwEtBYq"
      }
    },
    {
      "cell_type": "code",
      "source": [
        "df = pd.read_excel(\"advertising_sales_data.xlsx\")\n",
        "df = df.dropna()\n",
        "print(\" Dataset Preview:\")\n",
        "print(df.head())\n",
        "print(\"\\nColumn Data Types:\")\n",
        "print(df.dtypes)\n",
        "\n",
        "numeric_df = df.select_dtypes(include=['float64', 'int64'])\n"
      ],
      "metadata": {
        "colab": {
          "base_uri": "https://localhost:8080/"
        },
        "id": "mso2DRD0tEoA",
        "outputId": "dc877e53-38d4-45c5-a2db-b7831e7f4b95"
      },
      "execution_count": 43,
      "outputs": [
        {
          "output_type": "stream",
          "name": "stdout",
          "text": [
            " Dataset Preview:\n",
            "  Campaign     TV  Radio  Newspaper  Sales\n",
            "0    camp1  230.1   37.8       69.2   22.1\n",
            "1    camp2   44.5   39.3       45.1   10.4\n",
            "2    camp3   17.2   45.9       69.3   12.0\n",
            "3    camp4  151.5   41.3       58.5   16.5\n",
            "4    camp5  180.8   10.8       58.4   17.9\n",
            "\n",
            "Column Data Types:\n",
            "Campaign      object\n",
            "TV           float64\n",
            "Radio        float64\n",
            "Newspaper    float64\n",
            "Sales        float64\n",
            "dtype: object\n"
          ]
        }
      ]
    },
    {
      "cell_type": "markdown",
      "source": [
        "## Average amount spend on TV advertising"
      ],
      "metadata": {
        "id": "s3465DXEtUZL"
      }
    },
    {
      "cell_type": "code",
      "source": [
        "if 'TV' in numeric_df.columns:\n",
        "    avg_tv = numeric_df['TV'].mean()\n",
        "    print(f\"\\n Average amount spent on TV advertising: ${avg_tv:.2f}\")\n",
        "else:\n",
        "    print(\"\\n 'TV' column not found or not numeric.\")\n"
      ],
      "metadata": {
        "colab": {
          "base_uri": "https://localhost:8080/"
        },
        "id": "vgwQcf5ZtMHn",
        "outputId": "a0312a93-39a8-4bbe-e4e3-c5acef9971c5"
      },
      "execution_count": 44,
      "outputs": [
        {
          "output_type": "stream",
          "name": "stdout",
          "text": [
            "\n",
            " Average amount spent on TV advertising: $146.79\n"
          ]
        }
      ]
    },
    {
      "cell_type": "markdown",
      "source": [
        "#Correlation between Radio and Sales\n"
      ],
      "metadata": {
        "id": "LDOBWxqNti65"
      }
    },
    {
      "cell_type": "code",
      "source": [
        "if 'Radio' in numeric_df.columns and 'Sales' in numeric_df.columns:\n",
        "    correlation_radio_sales = numeric_df['Radio'].corr(numeric_df['Sales'])\n",
        "    print(f\"\\n🔗 Correlation between Radio advertising and Sales: {correlation_radio_sales:.2f}\")"
      ],
      "metadata": {
        "colab": {
          "base_uri": "https://localhost:8080/"
        },
        "id": "Q2cwpl_htl32",
        "outputId": "88076d98-1c06-498f-c9c7-4805ffeb7365"
      },
      "execution_count": 45,
      "outputs": [
        {
          "output_type": "stream",
          "name": "stdout",
          "text": [
            "\n",
            "🔗 Correlation between Radio advertising and Sales: 0.35\n"
          ]
        }
      ]
    },
    {
      "cell_type": "markdown",
      "source": [
        "## Advertising medium with highest correlation"
      ],
      "metadata": {
        "id": "VbMvfNLtt0Xk"
      }
    },
    {
      "cell_type": "code",
      "source": [
        "if 'Sales' in numeric_df.columns:\n",
        "    correlations = numeric_df.corr()['Sales'].drop('Sales')\n",
        "    highest_corr = correlations.idxmax()\n",
        "    print(f\"\\n Advertising medium with highest correlation with Sales: {highest_corr} ({correlations[highest_corr]:.2f})\")"
      ],
      "metadata": {
        "colab": {
          "base_uri": "https://localhost:8080/"
        },
        "id": "C_RC_d_1tv1H",
        "outputId": "dd05c889-58dd-4f69-a481-fbad457fdf23"
      },
      "execution_count": 46,
      "outputs": [
        {
          "output_type": "stream",
          "name": "stdout",
          "text": [
            "\n",
            " Advertising medium with highest correlation with Sales: TV (0.90)\n"
          ]
        }
      ]
    },
    {
      "cell_type": "markdown",
      "source": [
        "##Heatmap of correlation"
      ],
      "metadata": {
        "id": "WhzatlXdt7fF"
      }
    },
    {
      "cell_type": "code",
      "source": [
        "plt.figure(figsize=(6, 4))\n",
        "sns.heatmap(numeric_df.corr(), annot=True, cmap='coolwarm')\n",
        "plt.title(\"Correlation Heatmap\")\n",
        "plt.show()\n"
      ],
      "metadata": {
        "colab": {
          "base_uri": "https://localhost:8080/",
          "height": 391
        },
        "id": "uqRRBkdrt-Ks",
        "outputId": "0cc12eda-2434-498b-c5d2-de7564f642c3"
      },
      "execution_count": 47,
      "outputs": [
        {
          "output_type": "display_data",
          "data": {
            "text/plain": [
              "<Figure size 600x400 with 2 Axes>"
            ],
            "image/png": "[encoded data removed]"
          },
          "metadata": {}
        }
      ]
    },
    {
      "cell_type": "markdown",
      "source": [
        "# Linear Regression with all variables"
      ],
      "metadata": {
        "id": "xKYwkSn2wGqs"
      }
    },
    {
      "cell_type": "code",
      "source": [
        "features = ['TV', 'Radio', 'Newspaper']\n",
        "if all(col in numeric_df.columns for col in features):\n",
        "  X = numeric_df[features]\n",
        "  y = numeric_df['Sales']\n",
        "\n",
        "model = LinearRegression()\n",
        "model.fit(X, y)\n",
        "predictions = model.predict(X)"
      ],
      "metadata": {
        "id": "bxzB-K_lwI44"
      },
      "execution_count": 48,
      "outputs": []
    },
    {
      "cell_type": "markdown",
      "source": [
        "# Plotting actual vs predicted sales\n"
      ],
      "metadata": {
        "id": "J1nevGSLxKCQ"
      }
    },
    {
      "cell_type": "code",
      "source": [
        "    plt.figure(figsize=(6, 4))\n",
        "    plt.scatter(y, predictions, color='blue')\n",
        "    plt.plot([y.min(), y.max()], [y.min(), y.max()], 'r--')\n",
        "    plt.xlabel(\"Actual Sales\")\n",
        "    plt.ylabel(\"Predicted Sales\")\n",
        "    plt.title(\"Actual vs Predicted Sales\")\n",
        "    plt.grid(True)\n",
        "    plt.show()\n",
        "\n",
        "    print(f\"\\n Model Coefficients: {model.coef_}\")\n",
        "    print(f\" Intercept: {model.intercept_}\")"
      ],
      "metadata": {
        "colab": {
          "base_uri": "https://localhost:8080/",
          "height": 462
        },
        "id": "fnQv_0cjxN4A",
        "outputId": "eed6a3dd-ef25-4044-885f-07932f953703"
      },
      "execution_count": 52,
      "outputs": [
        {
          "output_type": "display_data",
          "data": {
            "text/plain": [
              "<Figure size 600x400 with 1 Axes>"
            ],
            "image/png": "[encoded data removed]"
          },
          "metadata": {}
        },
        {
          "output_type": "stream",
          "name": "stdout",
          "text": [
            "\n",
            " Model Coefficients: [ 5.44940753e-02  1.07180244e-01 -1.90190181e-05]\n",
            " Intercept: 4.63430429015234\n"
          ]
        }
      ]
    },
    {
      "cell_type": "markdown",
      "source": [
        "# Predicting for new input"
      ],
      "metadata": {
        "id": "5vRUFMVhxe_e"
      }
    },
    {
      "cell_type": "code",
      "source": [
        "new_data = pd.DataFrame([[200, 40, 50]], columns=['TV', 'Radio', 'Newspaper'])\n",
        "predicted_sales = model.predict(new_data)\n",
        "print(f\"\\n Predicted Sales for $200 TV, $40 Radio, $50 Newspaper: {predicted_sales[0]:.2f}\")"
      ],
      "metadata": {
        "colab": {
          "base_uri": "https://localhost:8080/"
        },
        "id": "TWCHYAT0xT8v",
        "outputId": "7d67e20e-7cbd-4ee7-9b53-3a52f355266e"
      },
      "execution_count": 56,
      "outputs": [
        {
          "output_type": "stream",
          "name": "stdout",
          "text": [
            "\n",
            "🔮 Predicted Sales for $200 TV, $40 Radio, $50 Newspaper: 19.82\n"
          ]
        }
      ]
    },
    {
      "cell_type": "markdown",
      "source": [
        "# Performance after normalization"
      ],
      "metadata": {
        "id": "cb3HIVFGx9Pe"
      }
    },
    {
      "cell_type": "code",
      "source": [
        "    scaler = StandardScaler()\n",
        "    X_scaled = scaler.fit_transform(X)\n",
        "\n",
        "    model_scaled = LinearRegression()\n",
        "    model_scaled.fit(X_scaled, y)\n",
        "    scaled_preds = model_scaled.predict(X_scaled)\n",
        "\n",
        "    print(f\"\\n Normalized Model - R² Score: {r2_score(y, scaled_preds):.2f}\")\n",
        "    print(f\" Normalized Model - MSE: {mean_squared_error(y, scaled_preds):.2f}\")"
      ],
      "metadata": {
        "colab": {
          "base_uri": "https://localhost:8080/"
        },
        "id": "MzCfk-MLx-Wm",
        "outputId": "98b2fdaf-f343-4234-ba51-acb4c87eed68"
      },
      "execution_count": 58,
      "outputs": [
        {
          "output_type": "stream",
          "name": "stdout",
          "text": [
            "\n",
            " Normalized Model - R² Score: 0.90\n",
            " Normalized Model - MSE: 2.72\n"
          ]
        }
      ]
    },
    {
      "cell_type": "markdown",
      "source": [
        "# Model with only Radio and Newspaper"
      ],
      "metadata": {
        "id": "dk6IVpdNyFcf"
      }
    },
    {
      "cell_type": "code",
      "source": [
        "if all(col in numeric_df.columns for col in ['Radio', 'Newspaper']):\n",
        "    X_rn = numeric_df[['Radio', 'Newspaper']]\n",
        "    y = numeric_df['Sales']\n",
        "    model_rn = LinearRegression()\n",
        "    model_rn.fit(X_rn, y)\n",
        "    pred_rn = model_rn.predict(X_rn)\n",
        "    r2_rn = r2_score(y, pred_rn)\n",
        "    print(f\"\\n R² Score using only Radio and Newspaper: {r2_rn:.2f}\")\n",
        "else:\n",
        "    print(\"\\n Required columns 'Radio' and 'Newspaper' not available in numeric data.\")\n"
      ],
      "metadata": {
        "colab": {
          "base_uri": "https://localhost:8080/"
        },
        "id": "FQICzHm_yGMY",
        "outputId": "3f1fc610-dfbe-4a95-9a5f-d0b6352f1490"
      },
      "execution_count": 61,
      "outputs": [
        {
          "output_type": "stream",
          "name": "stdout",
          "text": [
            "\n",
            " R² Score using only Radio and Newspaper: 0.12\n"
          ]
        }
      ]
    }
  ]
}